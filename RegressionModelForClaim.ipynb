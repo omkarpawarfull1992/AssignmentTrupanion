{
 "cells": [
  {
   "cell_type": "code",
   "execution_count": 1,
   "metadata": {},
   "outputs": [],
   "source": [
    "# Importing the libraries\n",
    "import numpy as np\n",
    "import matplotlib.pyplot as plt\n",
    "import pandas as pd\n",
    "import datetime as dt"
   ]
  },
  {
   "cell_type": "code",
   "execution_count": 2,
   "metadata": {},
   "outputs": [],
   "source": [
    "#Import Data\n",
    "df=pd.read_csv('Omkar01212020.csv')"
   ]
  },
  {
   "cell_type": "code",
   "execution_count": 3,
   "metadata": {},
   "outputs": [],
   "source": [
    "#PreProcessing Data \n",
    "##Removing nan and replacing with 0 for initial sum OR -1 in case of PrevClaimMonth OR -2 in case of PrePreClaimMonth\n",
    "##And converting Time stamps to Ordinal values\n",
    "df['Prev1Claim'].fillna(0,inplace=True)\n",
    "df['Prev2Claim'].fillna(0,inplace=True)\n",
    "df['RollingSum'].fillna(0,inplace=True)\n",
    "\n",
    "df['PreClaimMonthDiff'].fillna(-1,inplace=True)\n",
    "df['PrePreClaimMonthDiff'].fillna(-2,inplace=True)\n",
    "\n",
    "df['EnrollDate'] = pd.to_datetime(df['EnrollDate'])\n",
    "df['EnrollDate']=df['EnrollDate'].map(dt.datetime.toordinal)\n",
    "\n",
    "df['ClaimDate'] = pd.to_datetime(df['ClaimDate'])\n",
    "df['ClaimDate']=df['ClaimDate'].map(dt.datetime.toordinal)\n",
    "\n"
   ]
  },
  {
   "cell_type": "code",
   "execution_count": 4,
   "metadata": {},
   "outputs": [],
   "source": [
    "#Spitting Train and Test data\n",
    "#Train data includes all rows that were provided in Pet and Claim Data set after doign a join deriving new columns\n",
    "dfTrain=df.query('ClaimDate!=737241')\n",
    "dfTest=df.query('ClaimDate==737241')"
   ]
  },
  {
   "cell_type": "code",
   "execution_count": 5,
   "metadata": {},
   "outputs": [],
   "source": [
    "#DEfining indipendent and dependent variables for Training Data set\n",
    "X = dfTrain[['EnrollDate', 'Species', 'Breed', 'AgeAtEnroll', 'Prev1Claim',\n",
    "       'Prev2Claim', 'MonthAfterEnroll','RollingSum','DiffInClaim',\n",
    "       'ClaimDate', 'PreClaimMonthDiff', 'PrePreClaimMonthDiff']].values\n",
    "y = dfTrain[['ClaimPerMonth']].values"
   ]
  },
  {
   "cell_type": "code",
   "execution_count": 6,
   "metadata": {},
   "outputs": [],
   "source": [
    "#DEfining indipendent variables for Test Data set\n",
    "Xtest = dfTest[['EnrollDate', 'Species', 'Breed', 'AgeAtEnroll', 'Prev1Claim',\n",
    "       'Prev2Claim', 'MonthAfterEnroll','RollingSum','DiffInClaim',\n",
    "       'ClaimDate', 'PreClaimMonthDiff', 'PrePreClaimMonthDiff']].values"
   ]
  },
  {
   "cell_type": "code",
   "execution_count": 7,
   "metadata": {},
   "outputs": [],
   "source": [
    "# Encoding categorical data\n",
    "from sklearn.preprocessing import LabelEncoder, OneHotEncoder\n",
    "labelencoderS = LabelEncoder()\n",
    "X[:,1] = labelencoderS.fit_transform(X[:,1])\n",
    "labelencoderB = LabelEncoder()\n",
    "X[:,2] = labelencoderB.fit_transform(X[:,2])\n",
    "labelencoderA = LabelEncoder()\n",
    "X[:,3] = labelencoderA.fit_transform(X[:,3])"
   ]
  },
  {
   "cell_type": "code",
   "execution_count": 8,
   "metadata": {},
   "outputs": [],
   "source": [
    "#Encoding Test Data Set for Categorical Data\n",
    "Xtest[:,1] = labelencoderS.transform(Xtest[:,1])\n",
    "Xtest[:,2] = labelencoderB.transform(Xtest[:,2])\n",
    "Xtest[:,3] = labelencoderA.transform(Xtest[:,3])"
   ]
  },
  {
   "cell_type": "code",
   "execution_count": 9,
   "metadata": {},
   "outputs": [
    {
     "name": "stderr",
     "output_type": "stream",
     "text": [
      "C:\\Users\\opawar\\AppData\\Local\\Continuum\\anaconda3\\lib\\site-packages\\ipykernel_launcher.py:4: DataConversionWarning: A column-vector y was passed when a 1d array was expected. Please change the shape of y to (n_samples,), for example using ravel().\n",
      "  after removing the cwd from sys.path.\n"
     ]
    },
    {
     "data": {
      "text/plain": [
       "RandomForestRegressor(bootstrap=True, criterion='mse', max_depth=None,\n",
       "                      max_features='auto', max_leaf_nodes=None,\n",
       "                      min_impurity_decrease=0.0, min_impurity_split=None,\n",
       "                      min_samples_leaf=1, min_samples_split=2,\n",
       "                      min_weight_fraction_leaf=0.0, n_estimators=1000,\n",
       "                      n_jobs=-1, oob_score=False, random_state=0, verbose=0,\n",
       "                      warm_start=False)"
      ]
     },
     "execution_count": 9,
     "metadata": {},
     "output_type": "execute_result"
    }
   ],
   "source": [
    "# Fitting Random Forest Regression to the Train dataset\n",
    "from sklearn.ensemble import RandomForestRegressor\n",
    "regressor = RandomForestRegressor(n_estimators = 1000,n_jobs=-1, random_state = 0)\n",
    "regressor.fit(X, y)"
   ]
  },
  {
   "cell_type": "code",
   "execution_count": 10,
   "metadata": {},
   "outputs": [],
   "source": [
    "# Predicting the Claim Amount for 2019-07-01\n",
    "y_pred = regressor.predict(Xtest)"
   ]
  },
  {
   "cell_type": "code",
   "execution_count": 11,
   "metadata": {},
   "outputs": [
    {
     "name": "stderr",
     "output_type": "stream",
     "text": [
      "C:\\Users\\opawar\\AppData\\Local\\Continuum\\anaconda3\\lib\\site-packages\\ipykernel_launcher.py:3: SettingWithCopyWarning: \n",
      "A value is trying to be set on a copy of a slice from a DataFrame.\n",
      "Try using .loc[row_indexer,col_indexer] = value instead\n",
      "\n",
      "See the caveats in the documentation: http://pandas.pydata.org/pandas-docs/stable/user_guide/indexing.html#returning-a-view-versus-a-copy\n",
      "  This is separate from the ipykernel package so we can avoid doing imports until\n"
     ]
    }
   ],
   "source": [
    "#Peplacing ClaimPerMonth in test Dataset with Predicted ClaimPerMonth\n",
    "preDF=dfTest\n",
    "preDF['ClaimPerMonth']=y_pred"
   ]
  },
  {
   "cell_type": "code",
   "execution_count": 12,
   "metadata": {},
   "outputs": [
    {
     "name": "stderr",
     "output_type": "stream",
     "text": [
      "C:\\Users\\opawar\\AppData\\Local\\Continuum\\anaconda3\\lib\\site-packages\\ipykernel_launcher.py:3: SettingWithCopyWarning: \n",
      "A value is trying to be set on a copy of a slice from a DataFrame.\n",
      "Try using .loc[row_indexer,col_indexer] = value instead\n",
      "\n",
      "See the caveats in the documentation: http://pandas.pydata.org/pandas-docs/stable/user_guide/indexing.html#returning-a-view-versus-a-copy\n",
      "  This is separate from the ipykernel package so we can avoid doing imports until\n"
     ]
    }
   ],
   "source": [
    "#Creating Answer Dataframe for ClaimPerMonth for 2019-07-01\n",
    "Answer=preDF[['PetID','ClaimPerMonth','ClaimDate']]\n",
    "Answer['ClaimDate']=Answer['ClaimDate'].map(dt.datetime.fromordinal)"
   ]
  },
  {
   "cell_type": "code",
   "execution_count": 13,
   "metadata": {},
   "outputs": [
    {
     "data": {
      "text/html": [
       "<div>\n",
       "<style scoped>\n",
       "    .dataframe tbody tr th:only-of-type {\n",
       "        vertical-align: middle;\n",
       "    }\n",
       "\n",
       "    .dataframe tbody tr th {\n",
       "        vertical-align: top;\n",
       "    }\n",
       "\n",
       "    .dataframe thead th {\n",
       "        text-align: right;\n",
       "    }\n",
       "</style>\n",
       "<table border=\"1\" class=\"dataframe\">\n",
       "  <thead>\n",
       "    <tr style=\"text-align: right;\">\n",
       "      <th></th>\n",
       "      <th>PetID</th>\n",
       "      <th>ClaimPerMonth</th>\n",
       "      <th>ClaimDate</th>\n",
       "    </tr>\n",
       "  </thead>\n",
       "  <tbody>\n",
       "    <tr>\n",
       "      <td>25</td>\n",
       "      <td>1009</td>\n",
       "      <td>403.972930</td>\n",
       "      <td>2019-07-01</td>\n",
       "    </tr>\n",
       "    <tr>\n",
       "      <td>33</td>\n",
       "      <td>1010</td>\n",
       "      <td>1039.984090</td>\n",
       "      <td>2019-07-01</td>\n",
       "    </tr>\n",
       "    <tr>\n",
       "      <td>41</td>\n",
       "      <td>1011</td>\n",
       "      <td>2350.370100</td>\n",
       "      <td>2019-07-01</td>\n",
       "    </tr>\n",
       "    <tr>\n",
       "      <td>47</td>\n",
       "      <td>1017</td>\n",
       "      <td>1097.946860</td>\n",
       "      <td>2019-07-01</td>\n",
       "    </tr>\n",
       "    <tr>\n",
       "      <td>50</td>\n",
       "      <td>1022</td>\n",
       "      <td>2345.027800</td>\n",
       "      <td>2019-07-01</td>\n",
       "    </tr>\n",
       "    <tr>\n",
       "      <td>...</td>\n",
       "      <td>...</td>\n",
       "      <td>...</td>\n",
       "      <td>...</td>\n",
       "    </tr>\n",
       "    <tr>\n",
       "      <td>25285</td>\n",
       "      <td>9987</td>\n",
       "      <td>1513.839880</td>\n",
       "      <td>2019-07-01</td>\n",
       "    </tr>\n",
       "    <tr>\n",
       "      <td>25294</td>\n",
       "      <td>9991</td>\n",
       "      <td>1031.464190</td>\n",
       "      <td>2019-07-01</td>\n",
       "    </tr>\n",
       "    <tr>\n",
       "      <td>25297</td>\n",
       "      <td>9992</td>\n",
       "      <td>2187.589280</td>\n",
       "      <td>2019-07-01</td>\n",
       "    </tr>\n",
       "    <tr>\n",
       "      <td>25300</td>\n",
       "      <td>9995</td>\n",
       "      <td>346.198047</td>\n",
       "      <td>2019-07-01</td>\n",
       "    </tr>\n",
       "    <tr>\n",
       "      <td>25307</td>\n",
       "      <td>9998</td>\n",
       "      <td>2042.063490</td>\n",
       "      <td>2019-07-01</td>\n",
       "    </tr>\n",
       "  </tbody>\n",
       "</table>\n",
       "<p>2608 rows × 3 columns</p>\n",
       "</div>"
      ],
      "text/plain": [
       "       PetID  ClaimPerMonth  ClaimDate\n",
       "25      1009     403.972930 2019-07-01\n",
       "33      1010    1039.984090 2019-07-01\n",
       "41      1011    2350.370100 2019-07-01\n",
       "47      1017    1097.946860 2019-07-01\n",
       "50      1022    2345.027800 2019-07-01\n",
       "...      ...            ...        ...\n",
       "25285   9987    1513.839880 2019-07-01\n",
       "25294   9991    1031.464190 2019-07-01\n",
       "25297   9992    2187.589280 2019-07-01\n",
       "25300   9995     346.198047 2019-07-01\n",
       "25307   9998    2042.063490 2019-07-01\n",
       "\n",
       "[2608 rows x 3 columns]"
      ]
     },
     "execution_count": 13,
     "metadata": {},
     "output_type": "execute_result"
    }
   ],
   "source": [
    "Answer"
   ]
  },
  {
   "cell_type": "code",
   "execution_count": 15,
   "metadata": {},
   "outputs": [],
   "source": [
    "Answer.to_csv('Answer.csv',index=False)"
   ]
  },
  {
   "cell_type": "code",
   "execution_count": null,
   "metadata": {},
   "outputs": [],
   "source": []
  }
 ],
 "metadata": {
  "kernelspec": {
   "display_name": "Python 3",
   "language": "python",
   "name": "python3"
  },
  "language_info": {
   "codemirror_mode": {
    "name": "ipython",
    "version": 3
   },
   "file_extension": ".py",
   "mimetype": "text/x-python",
   "name": "python",
   "nbconvert_exporter": "python",
   "pygments_lexer": "ipython3",
   "version": "3.7.4"
  }
 },
 "nbformat": 4,
 "nbformat_minor": 2
}
